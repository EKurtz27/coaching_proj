{
 "cells": [
  {
   "cell_type": "code",
   "execution_count": 2,
   "id": "9b104379-91b4-44f2-9f82-2872c29c1d93",
   "metadata": {},
   "outputs": [
    {
     "name": "stdout",
     "output_type": "stream",
     "text": [
      "Alabama, Head Coach, from 2024 to present\n",
      "Washington, Head Coach, from 2022 to 2023\n",
      "Fresno State, Head Coach, from 2020 to 2021\n",
      "Indiana, Offensive Coordinator, from 2019 to 2019\n",
      "Fresno State, Offensive Coordinator, from 2017 to 2018\n",
      "Eastern Michigan, Offensive Coordinator, from 2014 to 2016\n",
      "Southern Illinois, Offensive Coordinator, from 2010 to 2013\n",
      "Sioux Falls, Head Coach, from 2005 to 2009\n"
     ]
    }
   ],
   "source": [
    "import requests\n",
    "from bs4 import BeautifulSoup\n",
    "import re\n",
    "\n",
    "page = requests.get('https://www.on3.com/db/coach/kalen-deboer-135577/')\n",
    "contents = page.content\n",
    "\n",
    "soup = BeautifulSoup(contents)\n",
    "all_jobs = soup.find_all('div', class_ = 'CoachHistory_historyListWrapper__i5n8y')\n",
    "\n",
    "for job in all_jobs:\n",
    "    team = job.find('h5', class_ = 'MuiTypography-root MuiTypography-h5 CoachHistory_teamName__2E139 css-6od08f-MuiTypography-root')\n",
    "    position = job.find('span', class_ = 'MuiTypography-root MuiTypography-caption CoachHistory_position__QN_5S css-d163s0-MuiTypography-root')\n",
    "    years = job.find('span', class_ = 'MuiTypography-root MuiTypography-caption CoachHistory_year__yMj7Z css-d163s0-MuiTypography-root')\n",
    "    regex_result = re.search(r\"(\\d+) - (\\d+|\\w+)\", years.get_text()) \n",
    "    start_year = regex_result.group(1)\n",
    "    end_year = regex_result.group(2)\n",
    "    print(f\"{team.get_text()}, {position.get_text()}, from {start_year} to {end_year}\")"
   ]
  },
  {
   "cell_type": "code",
   "execution_count": null,
   "id": "11ed225e-a92d-4773-8e6c-fb4a18887fa5",
   "metadata": {},
   "outputs": [],
   "source": []
  }
 ],
 "metadata": {
  "kernelspec": {
   "display_name": "Python 3 (ipykernel)",
   "language": "python",
   "name": "python3"
  },
  "language_info": {
   "codemirror_mode": {
    "name": "ipython",
    "version": 3
   },
   "file_extension": ".py",
   "mimetype": "text/x-python",
   "name": "python",
   "nbconvert_exporter": "python",
   "pygments_lexer": "ipython3",
   "version": "3.12.1"
  }
 },
 "nbformat": 4,
 "nbformat_minor": 5
}
